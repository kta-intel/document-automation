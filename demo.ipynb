{
 "cells": [
  {
   "cell_type": "markdown",
   "id": "96ba9d3f",
   "metadata": {},
   "source": [
    "## **Reference Implementation**\n",
    "### ***E2E Architecture***\n",
    "### **Use Case E2E flow**\n",
    "\n",
    "<img src=\"assets/e2e_flow.png\" width=\"500\" height=\"500\">"
   ]
  },
  {
   "cell_type": "markdown",
   "id": "ab5e984a",
   "metadata": {},
   "source": [
    "### ***Solution setup***\n",
    "Check that you are in the `ner_stock` kernel. If not, navigate to `Kernel > Change kernel > Python [conda env:ner_stock]` \\\n",
    "After activating the environment for stock Tensorflow framework, make sure the oneDNN flag is disabled by running the below cell to set the flag and verify it"
   ]
  },
  {
   "cell_type": "code",
   "execution_count": 2,
   "id": "b199ecc8",
   "metadata": {},
   "outputs": [
    {
     "name": "stdout",
     "output_type": "stream",
     "text": [
      "0\n"
     ]
    }
   ],
   "source": [
    "%%bash\n",
    "export TF_ENABLE_ONEDNN_OPTS=0\n",
    "echo $TF_ENABLE_ONEDNN_OPTS"
   ]
  },
  {
   "cell_type": "markdown",
   "id": "0a923058",
   "metadata": {},
   "source": [
    "### ***Solution implementation***\n",
    "#### **Model building process**\n",
    "The cell below will execute a python script to initiate training in the kernel enabled above\n",
    "\n",
    "The script will run the benchmarks for the passed parameters and displays the corresponding  training time in seconds. The details of the script and parameters are as follows:\n",
    "\n",
    "```shell\n",
    "python src/run_modeltraining.py --batchsize <batchsize value> --dataset_file <dataset filename> -i <intel/stock> --save_model_path <save file path>\n",
    "\n",
    "```\n",
    "\n",
    "  Arguments:<br>\n",
    "```\n",
    "  --help                   show this help message and exit\n",
    "  --batchsize              Give the required batch sizes\n",
    "  --dataset_file           Give the name of dataset file\n",
    "  --i                      0 for stock, 1 for intel environment\n",
    "  --save_model_path        Give the directory path to save the model after the training\n",
    "```\n",
    "<b>Note:</b> \n",
    "1) The dataset file and save_model_path parameters are mandatory to be given, remaining parameters if not given will take the default values\n",
    "2) --help option will give the details of the arguments"
   ]
  },
  {
   "cell_type": "code",
   "execution_count": null,
   "id": "90d1ddb2",
   "metadata": {},
   "outputs": [],
   "source": [
    "%run src/run_modeltraining.py --batch_size 128 --dataset_file \"./data/ner_dataset.csv\" --intel 0 --save_model_path \"./models/trainedmodels/\" | tee stock_training_log.txt"
   ]
  },
  {
   "cell_type": "markdown",
   "id": "f09377ad",
   "metadata": {},
   "source": [
    "### **Expected Output**\n",
    "Example of expected output stored in the log.txt file"
   ]
  },
  {
   "cell_type": "code",
   "execution_count": 1,
   "id": "f225014c",
   "metadata": {},
   "outputs": [
    {
     "name": "stdout",
     "output_type": "stream",
     "text": [
      "# of sentences:  25001\r\n",
      "Model: \"model\"\r\n",
      "__________________________________________________________________________________________________\r\n",
      " Layer (type)                   Output Shape         Param #     Connected to                     \r\n",
      "==================================================================================================\r\n",
      " input_1 (InputLayer)           [(None, 128)]        0           []                               \r\n",
      "                                                                                                  \r\n",
      " input_2 (InputLayer)           [(None, 128)]        0           []                               \r\n",
      "                                                                                                  \r\n",
      " tf_bert_model (TFBertModel)    TFBaseModelOutputWi  109482240   ['input_1[0][0]',                \r\n",
      "                                thPoolingAndCrossAt               'input_2[0][0]']                \r\n",
      "                                tentions(last_hidde                                               \r\n",
      "                                n_state=(None, 128,                                               \r\n",
      "                                 768),                                                            \r\n",
      "                                 pooler_output=(Non                                               \r\n",
      "                                e, 768),                                                          \r\n",
      "                                 past_key_values=No                                               \r\n",
      "                                ne, hidden_states=N                                               \r\n",
      "                                one, attentions=Non                                               \r\n",
      "                                e, cross_attentions                                               \r\n",
      "                                =None)                                                            \r\n",
      "                                                                                                  \r\n",
      " dropout_37 (Dropout)           (None, 128, 768)     0           ['tf_bert_model[0][0]']          \r\n",
      "                                                                                                  \r\n",
      " dense (Dense)                  (None, 128, 17)      13073       ['dropout_37[0][0]']             \r\n",
      "                                                                                                  \r\n",
      "==================================================================================================\r\n",
      "Total params: 109,495,313\r\n",
      "Trainable params: 109,495,313\r\n",
      "Non-trainable params: 0\r\n",
      "__________________________________________________________________________________________________\r\n",
      "\r\n",
      "    ----------------------------------------\r\n",
      "    # Model Training\r\n",
      "    # Time (in seconds): 7349.88166809082\r\n",
      "    # Batch size: 128\r\n",
      "    # Model saved path: ./models/trainedmodels//stock//model_b128/model_checkpoint\r\n",
      "    ----------------------------------------\r\n",
      "    \r\n"
     ]
    }
   ],
   "source": [
    "%cat stock_training_log.txt"
   ]
  },
  {
   "cell_type": "markdown",
   "id": "37c4c9f8",
   "metadata": {},
   "source": [
    "### Model Inference or Predictions\n",
    "The cell below will execute a python script to initiative inference in the kernel enabled above\n",
    "\n",
    "The script will run the benchmarks for the passed parameters and  displays the corresponding inference time in seconds. The details of the script and parameters are as follows:\n",
    "\n",
    "```shell\n",
    "python src/run_inference.py --batchsize <batchsize value> --dataset_file <dataset filename> -i <intel/stock> --model_path <model file path>\n",
    "\n",
    "```\n",
    "\n",
    "  Arguments:<br>\n",
    "  \n",
    "```\n",
    "  --help                   show this help message and exit\n",
    "  --batchsize              Give the required batch sizes\n",
    "  --dataset_file           Give the name of test dataset file\n",
    "  --intel                  0 for stock, 1 for intel environment\n",
    "  --model_path             Give the directory path the trained model\n",
    "```\n",
    "\n",
    "<b>Note:</b>\n",
    "1) All the options above are optional expect for test dataset file and model_path, if not given will take the default values\n",
    "2) --help option will give the details of the arguments<br>\n"
   ]
  },
  {
   "cell_type": "code",
   "execution_count": null,
   "id": "b3e471ee",
   "metadata": {},
   "outputs": [],
   "source": [
    "%run src/run_inference.py --batch_size 128 --dataset_file \"./data/ner_test_dataset.csv\" --intel 0 --model_path \"./models/trainedmodels/stock/model_b128/model_checkpoint\" | tee stock_inference_log.txt"
   ]
  },
  {
   "cell_type": "markdown",
   "id": "3522a1db",
   "metadata": {},
   "source": [
    "### **Expected Output**\n",
    "Example of expected output stored in the log.txt file"
   ]
  },
  {
   "cell_type": "code",
   "execution_count": 2,
   "id": "18bdbcb1",
   "metadata": {},
   "outputs": [
    {
     "name": "stdout",
     "output_type": "stream",
     "text": [
      "# of sentences:  2500\r\n",
      "Testing dataset size: 2500\r\n",
      "Inference Time:  1.678523302078247\r\n",
      "              precision    recall  f1-score   support\r\n",
      "\r\n",
      "           0       0.99      1.00      1.00       104\r\n",
      "           2       1.00      1.00      1.00         2\r\n",
      "           3       0.00      0.00      0.00         1\r\n",
      "          16       0.95      0.95      0.95        21\r\n",
      "\r\n",
      "    accuracy                           0.98       128\r\n",
      "   macro avg       0.74      0.74      0.74       128\r\n",
      "weighted avg       0.98      0.98      0.98       128\r\n",
      "\r\n",
      "Inference Time:  0.12709403038024902\r\n",
      "              precision    recall  f1-score   support\r\n",
      "\r\n",
      "           0       0.99      1.00      1.00       104\r\n",
      "           2       1.00      1.00      1.00         2\r\n",
      "           3       0.00      0.00      0.00         1\r\n",
      "          16       0.95      0.95      0.95        21\r\n",
      "\r\n",
      "    accuracy                           0.98       128\r\n",
      "   macro avg       0.74      0.74      0.74       128\r\n",
      "weighted avg       0.98      0.98      0.98       128\r\n",
      "\r\n",
      "Batch Inference Time:  136.33312678337097\r\n",
      "Accuracy:  0.972146875\r\n",
      "Batch Inference Time:  135.9003767967224\r\n",
      "Accuracy:  0.972146875\r\n",
      "Batch Inference Time:  135.56756043434143\r\n",
      "Accuracy:  0.972146875\r\n",
      "\r\n",
      "    ----------------------------------------\r\n",
      "    # Model Inference details:\r\n",
      "    # Real time inference (in seconds): 0.1271369457244873\r\n",
      "    # Average batch inference:\r\n",
      "    #   Time (in seconds): 6.959805338541667\r\n",
      "    #   Batch size: 128\r\n",
      "    #   Accuracy: 0.972146875\r\n",
      "    ----------------------------------------\r\n",
      "    \r\n"
     ]
    }
   ],
   "source": [
    "%cat stock_inference_log.txt"
   ]
  },
  {
   "cell_type": "markdown",
   "id": "d073bc7e",
   "metadata": {},
   "source": [
    "## **Optimizing the E2E solution with Intel Optimizations for Tensorflow**\n",
    "### ***E2E Architecture***\n",
    "### **Use Case E2E flow**\n",
    "<img src=\"assets/e2e_flow_optimized.png\" width=\"500\" height=\"500\">"
   ]
  },
  {
   "cell_type": "markdown",
   "id": "0cafc603",
   "metadata": {},
   "source": [
    "### ***Solution setup***\n",
    "Check that you are in the `ner_intel` kernel. If not, navigate to `Kernel > Change kernel > Python [conda env:ner_intel]` \\\n",
    "After activating the environment for stock Tensorflow framework, make sure the oneDNN flag is disabled by running the below cell to set the flag and verify it"
   ]
  },
  {
   "cell_type": "code",
   "execution_count": 4,
   "id": "652cc470",
   "metadata": {},
   "outputs": [
    {
     "name": "stdout",
     "output_type": "stream",
     "text": [
      "1\n"
     ]
    }
   ],
   "source": [
    "%%bash\n",
    "export TF_ENABLE_ONEDNN_OPTS=1\n",
    "echo $TF_ENABLE_ONEDNN_OPTS"
   ]
  },
  {
   "cell_type": "markdown",
   "id": "ee48ec29",
   "metadata": {},
   "source": [
    "### ***Solution implementation***\n",
    "#### **Model building process with Intel® optimizations**\n",
    "The python script run_modeltraining.py used for training on stock version is used for training the model on Intel environment also as per example below."
   ]
  },
  {
   "cell_type": "code",
   "execution_count": null,
   "id": "d50e59bc",
   "metadata": {},
   "outputs": [],
   "source": [
    "%run src/run_modeltraining.py --batch_size 128 --dataset_file \"./data/ner_dataset.csv\" --intel 1 --save_model_path \"./models/trainedmodels/\" | tee intel_training_log.txt"
   ]
  },
  {
   "cell_type": "markdown",
   "id": "7bed8b38",
   "metadata": {},
   "source": [
    "### **Expected Output**\n",
    "Example of expected output stored in the log.txt file"
   ]
  },
  {
   "cell_type": "code",
   "execution_count": 1,
   "id": "9deddecb",
   "metadata": {},
   "outputs": [
    {
     "name": "stdout",
     "output_type": "stream",
     "text": [
      "# of sentences:  25001\r\n",
      "Model: \"model\"\r\n",
      "__________________________________________________________________________________________________\r\n",
      " Layer (type)                   Output Shape         Param #     Connected to                     \r\n",
      "==================================================================================================\r\n",
      " input_1 (InputLayer)           [(None, 128)]        0           []                               \r\n",
      "                                                                                                  \r\n",
      " input_2 (InputLayer)           [(None, 128)]        0           []                               \r\n",
      "                                                                                                  \r\n",
      " tf_bert_model (TFBertModel)    TFBaseModelOutputWi  109482240   ['input_1[0][0]',                \r\n",
      "                                thPoolingAndCrossAt               'input_2[0][0]']                \r\n",
      "                                tentions(last_hidde                                               \r\n",
      "                                n_state=(None, 128,                                               \r\n",
      "                                 768),                                                            \r\n",
      "                                 pooler_output=(Non                                               \r\n",
      "                                e, 768),                                                          \r\n",
      "                                 past_key_values=No                                               \r\n",
      "                                ne, hidden_states=N                                               \r\n",
      "                                one, attentions=Non                                               \r\n",
      "                                e, cross_attentions                                               \r\n",
      "                                =None)                                                            \r\n",
      "                                                                                                  \r\n",
      " dropout_37 (Dropout)           (None, 128, 768)     0           ['tf_bert_model[0][0]']          \r\n",
      "                                                                                                  \r\n",
      " dense (Dense)                  (None, 128, 17)      13073       ['dropout_37[0][0]']             \r\n",
      "                                                                                                  \r\n",
      "==================================================================================================\r\n",
      "Total params: 109,495,313\r\n",
      "Trainable params: 109,495,313\r\n",
      "Non-trainable params: 0\r\n",
      "__________________________________________________________________________________________________\r\n",
      "\r\n",
      "    ----------------------------------------\r\n",
      "    # Model Training\r\n",
      "    # Time (in seconds): 6542.973806858063\r\n",
      "    # Batch size: 128\r\n",
      "    # Model saved path: ./models/trainedmodels//intel//model_b128/model_checkpoint\r\n",
      "    ----------------------------------------\r\n",
      "    \r\n"
     ]
    }
   ],
   "source": [
    "%cat intel_training_log.txt"
   ]
  },
  {
   "cell_type": "markdown",
   "id": "85f19b8d",
   "metadata": {},
   "source": [
    "#### **Model Inference process with Intel® optimizations**\n",
    "The python script run_inference.py used to obtain inference benchmarks for stock version is used for getting inference benchmarks for Intel environment also as per example below."
   ]
  },
  {
   "cell_type": "code",
   "execution_count": null,
   "id": "abc531a2",
   "metadata": {},
   "outputs": [],
   "source": [
    "%run src/run_inference.py --batch_size 128 --dataset_file \"./data/ner_test_dataset.csv\" --intel 1 --model_path \"./models/trainedmodels/intel/model_b128/model_checkpoint\" | tee intel_inference_log.txt"
   ]
  },
  {
   "cell_type": "markdown",
   "id": "e8602c94",
   "metadata": {},
   "source": [
    "### **Expected Output**\n",
    "Example of expected output stored in the log.txt file"
   ]
  },
  {
   "cell_type": "code",
   "execution_count": 2,
   "id": "0acad795",
   "metadata": {},
   "outputs": [
    {
     "name": "stdout",
     "output_type": "stream",
     "text": [
      "# of sentences:  2500\r\n",
      "Testing dataset size: 2500\r\n",
      "\r",
      "1/1 [==============================] - ETA: 0s\b\b\b\b\b\b\b\b\b\b\b\b\b\b\b\b\b\b\b\b\b\b\b\b\b\b\b\b\b\b\b\b\b\b\b\b\b\b\b\b\b\b\b\b\b\b\r",
      "1/1 [==============================] - 2s 2s/step\r\n",
      "Inference Time:  1.862060785293579\r\n",
      "              precision    recall  f1-score   support\r\n",
      "\r\n",
      "           0       1.00      1.00      1.00       104\r\n",
      "           2       1.00      1.00      1.00         2\r\n",
      "           3       0.00      0.00      0.00         1\r\n",
      "          16       0.95      1.00      0.98        21\r\n",
      "\r\n",
      "    accuracy                           0.99       128\r\n",
      "   macro avg       0.74      0.75      0.74       128\r\n",
      "weighted avg       0.98      0.99      0.99       128\r\n",
      "\r\n",
      "\r",
      "1/1 [==============================] - ETA: 0s\b\b\b\b\b\b\b\b\b\b\b\b\b\b\b\b\b\b\b\b\b\b\b\b\b\b\b\b\b\b\b\b\b\b\b\b\b\b\b\b\b\b\b\b\b\b\r",
      "1/1 [==============================] - 0s 100ms/step\r\n",
      "Inference Time:  0.12018132209777832\r\n",
      "              precision    recall  f1-score   support\r\n",
      "\r\n",
      "           0       1.00      1.00      1.00       104\r\n",
      "           2       1.00      1.00      1.00         2\r\n",
      "           3       0.00      0.00      0.00         1\r\n",
      "          16       0.95      1.00      0.98        21\r\n",
      "\r\n",
      "    accuracy                           0.99       128\r\n",
      "   macro avg       0.74      0.75      0.74       128\r\n",
      "weighted avg       0.98      0.99      0.99       128\r\n",
      "\r\n",
      "\r",
      " 1/20 [>.............................] - ETA: 1:47\b\b\b\b\b\b\b\b\b\b\b\b\b\b\b\b\b\b\b\b\b\b\b\b\b\b\b\b\b\b\b\b\b\b\b\b\b\b\b\b\b\b\b\b\b\b\b\b\b\b\r",
      " 2/20 [==>...........................] - ETA: 1:41\b\b\b\b\b\b\b\b\b\b\b\b\b\b\b\b\b\b\b\b\b\b\b\b\b\b\b\b\b\b\b\b\b\b\b\b\b\b\b\b\b\b\b\b\b\b\b\b\b\b\r",
      " 3/20 [===>..........................] - ETA: 1:36\b\b\b\b\b\b\b\b\b\b\b\b\b\b\b\b\b\b\b\b\b\b\b\b\b\b\b\b\b\b\b\b\b\b\b\b\b\b\b\b\b\b\b\b\b\b\b\b\b\b\r",
      " 4/20 [=====>........................] - ETA: 1:30\b\b\b\b\b\b\b\b\b\b\b\b\b\b\b\b\b\b\b\b\b\b\b\b\b\b\b\b\b\b\b\b\b\b\b\b\b\b\b\b\b\b\b\b\b\b\b\b\b\b\r",
      " 5/20 [======>.......................] - ETA: 1:24\b\b\b\b\b\b\b\b\b\b\b\b\b\b\b\b\b\b\b\b\b\b\b\b\b\b\b\b\b\b\b\b\b\b\b\b\b\b\b\b\b\b\b\b\b\b\b\b\b\b\r",
      " 6/20 [========>.....................] - ETA: 1:19\b\b\b\b\b\b\b\b\b\b\b\b\b\b\b\b\b\b\b\b\b\b\b\b\b\b\b\b\b\b\b\b\b\b\b\b\b\b\b\b\b\b\b\b\b\b\b\b\b\b\r",
      " 7/20 [=========>....................] - ETA: 1:13\b\b\b\b\b\b\b\b\b\b\b\b\b\b\b\b\b\b\b\b\b\b\b\b\b\b\b\b\b\b\b\b\b\b\b\b\b\b\b\b\b\b\b\b\b\b\b\b\b\b\r",
      " 8/20 [===========>..................] - ETA: 1:07\b\b\b\b\b\b\b\b\b\b\b\b\b\b\b\b\b\b\b\b\b\b\b\b\b\b\b\b\b\b\b\b\b\b\b\b\b\b\b\b\b\b\b\b\b\b\b\b\b\b\r",
      " 9/20 [============>.................] - ETA: 1:02\b\b\b\b\b\b\b\b\b\b\b\b\b\b\b\b\b\b\b\b\b\b\b\b\b\b\b\b\b\b\b\b\b\b\b\b\b\b\b\b\b\b\b\b\b\b\b\b\b\b\r",
      "10/20 [==============>...............] - ETA: 56s \b\b\b\b\b\b\b\b\b\b\b\b\b\b\b\b\b\b\b\b\b\b\b\b\b\b\b\b\b\b\b\b\b\b\b\b\b\b\b\b\b\b\b\b\b\b\b\b\b\r",
      "11/20 [===============>..............] - ETA: 50s\b\b\b\b\b\b\b\b\b\b\b\b\b\b\b\b\b\b\b\b\b\b\b\b\b\b\b\b\b\b\b\b\b\b\b\b\b\b\b\b\b\b\b\b\b\b\b\b\b\r",
      "12/20 [=================>............] - ETA: 45s\b\b\b\b\b\b\b\b\b\b\b\b\b\b\b\b\b\b\b\b\b\b\b\b\b\b\b\b\b\b\b\b\b\b\b\b\b\b\b\b\b\b\b\b\b\b\b\b\b\r",
      "13/20 [==================>...........] - ETA: 39s\b\b\b\b\b\b\b\b\b\b\b\b\b\b\b\b\b\b\b\b\b\b\b\b\b\b\b\b\b\b\b\b\b\b\b\b\b\b\b\b\b\b\b\b\b\b\b\b\b\r",
      "14/20 [====================>.........] - ETA: 33s\b\b\b\b\b\b\b\b\b\b\b\b\b\b\b\b\b\b\b\b\b\b\b\b\b\b\b\b\b\b\b\b\b\b\b\b\b\b\b\b\b\b\b\b\b\b\b\b\b\r",
      "15/20 [=====================>........] - ETA: 28s\b\b\b\b\b\b\b\b\b\b\b\b\b\b\b\b\b\b\b\b\b\b\b\b\b\b\b\b\b\b\b\b\b\b\b\b\b\b\b\b\b\b\b\b\b\b\b\b\b\r",
      "16/20 [=======================>......] - ETA: 22s\b\b\b\b\b\b\b\b\b\b\b\b\b\b\b\b\b\b\b\b\b\b\b\b\b\b\b\b\b\b\b\b\b\b\b\b\b\b\b\b\b\b\b\b\b\b\b\b\b\r",
      "17/20 [========================>.....] - ETA: 16s\b\b\b\b\b\b\b\b\b\b\b\b\b\b\b\b\b\b\b\b\b\b\b\b\b\b\b\b\b\b\b\b\b\b\b\b\b\b\b\b\b\b\b\b\b\b\b\b\b\r",
      "18/20 [==========================>...] - ETA: 11s\b\b\b\b\b\b\b\b\b\b\b\b\b\b\b\b\b\b\b\b\b\b\b\b\b\b\b\b\b\b\b\b\b\b\b\b\b\b\b\b\b\b\b\b\b\b\b\b\b\r",
      "19/20 [===========================>..] - ETA: 5s \b\b\b\b\b\b\b\b\b\b\b\b\b\b\b\b\b\b\b\b\b\b\b\b\b\b\b\b\b\b\b\b\b\b\b\b\b\b\b\b\b\b\b\b\b\b\b\b\r",
      "20/20 [==============================] - ETA: 0s\b\b\b\b\b\b\b\b\b\b\b\b\b\b\b\b\b\b\b\b\b\b\b\b\b\b\b\b\b\b\b\b\b\b\b\b\b\b\b\b\b\b\b\b\b\b\b\b\r",
      "20/20 [==============================] - 110s 6s/step\r\n",
      "Batch Inference Time:  110.19996619224548\r\n",
      "Accuracy:  0.970959375\r\n",
      "\r",
      " 1/20 [>.............................] - ETA: 1:47\b\b\b\b\b\b\b\b\b\b\b\b\b\b\b\b\b\b\b\b\b\b\b\b\b\b\b\b\b\b\b\b\b\b\b\b\b\b\b\b\b\b\b\b\b\b\b\b\b\b\r",
      " 2/20 [==>...........................] - ETA: 1:41\b\b\b\b\b\b\b\b\b\b\b\b\b\b\b\b\b\b\b\b\b\b\b\b\b\b\b\b\b\b\b\b\b\b\b\b\b\b\b\b\b\b\b\b\b\b\b\b\b\b\r",
      " 3/20 [===>..........................] - ETA: 1:36\b\b\b\b\b\b\b\b\b\b\b\b\b\b\b\b\b\b\b\b\b\b\b\b\b\b\b\b\b\b\b\b\b\b\b\b\b\b\b\b\b\b\b\b\b\b\b\b\b\b\r",
      " 4/20 [=====>........................] - ETA: 1:30\b\b\b\b\b\b\b\b\b\b\b\b\b\b\b\b\b\b\b\b\b\b\b\b\b\b\b\b\b\b\b\b\b\b\b\b\b\b\b\b\b\b\b\b\b\b\b\b\b\b\r",
      " 5/20 [======>.......................] - ETA: 1:24\b\b\b\b\b\b\b\b\b\b\b\b\b\b\b\b\b\b\b\b\b\b\b\b\b\b\b\b\b\b\b\b\b\b\b\b\b\b\b\b\b\b\b\b\b\b\b\b\b\b\r",
      " 6/20 [========>.....................] - ETA: 1:19\b\b\b\b\b\b\b\b\b\b\b\b\b\b\b\b\b\b\b\b\b\b\b\b\b\b\b\b\b\b\b\b\b\b\b\b\b\b\b\b\b\b\b\b\b\b\b\b\b\b\r",
      " 7/20 [=========>....................] - ETA: 1:13\b\b\b\b\b\b\b\b\b\b\b\b\b\b\b\b\b\b\b\b\b\b\b\b\b\b\b\b\b\b\b\b\b\b\b\b\b\b\b\b\b\b\b\b\b\b\b\b\b\b\r",
      " 8/20 [===========>..................] - ETA: 1:07\b\b\b\b\b\b\b\b\b\b\b\b\b\b\b\b\b\b\b\b\b\b\b\b\b\b\b\b\b\b\b\b\b\b\b\b\b\b\b\b\b\b\b\b\b\b\b\b\b\b\r",
      " 9/20 [============>.................] - ETA: 1:02\b\b\b\b\b\b\b\b\b\b\b\b\b\b\b\b\b\b\b\b\b\b\b\b\b\b\b\b\b\b\b\b\b\b\b\b\b\b\b\b\b\b\b\b\b\b\b\b\b\b\r",
      "10/20 [==============>...............] - ETA: 56s \b\b\b\b\b\b\b\b\b\b\b\b\b\b\b\b\b\b\b\b\b\b\b\b\b\b\b\b\b\b\b\b\b\b\b\b\b\b\b\b\b\b\b\b\b\b\b\b\b\r",
      "11/20 [===============>..............] - ETA: 50s\b\b\b\b\b\b\b\b\b\b\b\b\b\b\b\b\b\b\b\b\b\b\b\b\b\b\b\b\b\b\b\b\b\b\b\b\b\b\b\b\b\b\b\b\b\b\b\b\b\r",
      "12/20 [=================>............] - ETA: 45s\b\b\b\b\b\b\b\b\b\b\b\b\b\b\b\b\b\b\b\b\b\b\b\b\b\b\b\b\b\b\b\b\b\b\b\b\b\b\b\b\b\b\b\b\b\b\b\b\b\r",
      "13/20 [==================>...........] - ETA: 39s\b\b\b\b\b\b\b\b\b\b\b\b\b\b\b\b\b\b\b\b\b\b\b\b\b\b\b\b\b\b\b\b\b\b\b\b\b\b\b\b\b\b\b\b\b\b\b\b\b\r",
      "14/20 [====================>.........] - ETA: 33s\b\b\b\b\b\b\b\b\b\b\b\b\b\b\b\b\b\b\b\b\b\b\b\b\b\b\b\b\b\b\b\b\b\b\b\b\b\b\b\b\b\b\b\b\b\b\b\b\b\r",
      "15/20 [=====================>........] - ETA: 28s\b\b\b\b\b\b\b\b\b\b\b\b\b\b\b\b\b\b\b\b\b\b\b\b\b\b\b\b\b\b\b\b\b\b\b\b\b\b\b\b\b\b\b\b\b\b\b\b\b\r",
      "16/20 [=======================>......] - ETA: 22s\b\b\b\b\b\b\b\b\b\b\b\b\b\b\b\b\b\b\b\b\b\b\b\b\b\b\b\b\b\b\b\b\b\b\b\b\b\b\b\b\b\b\b\b\b\b\b\b\b\r",
      "17/20 [========================>.....] - ETA: 16s\b\b\b\b\b\b\b\b\b\b\b\b\b\b\b\b\b\b\b\b\b\b\b\b\b\b\b\b\b\b\b\b\b\b\b\b\b\b\b\b\b\b\b\b\b\b\b\b\b\r",
      "18/20 [==========================>...] - ETA: 11s\b\b\b\b\b\b\b\b\b\b\b\b\b\b\b\b\b\b\b\b\b\b\b\b\b\b\b\b\b\b\b\b\b\b\b\b\b\b\b\b\b\b\b\b\b\b\b\b\b\r",
      "19/20 [===========================>..] - ETA: 5s \b\b\b\b\b\b\b\b\b\b\b\b\b\b\b\b\b\b\b\b\b\b\b\b\b\b\b\b\b\b\b\b\b\b\b\b\b\b\b\b\b\b\b\b\b\b\b\b\r",
      "20/20 [==============================] - ETA: 0s\b\b\b\b\b\b\b\b\b\b\b\b\b\b\b\b\b\b\b\b\b\b\b\b\b\b\b\b\b\b\b\b\b\b\b\b\b\b\b\b\b\b\b\b\b\b\b\b\r",
      "20/20 [==============================] - 110s 5s/step\r\n",
      "Batch Inference Time:  110.17814111709595\r\n",
      "Accuracy:  0.970959375\r\n",
      "\r",
      " 1/20 [>.............................] - ETA: 1:49\b\b\b\b\b\b\b\b\b\b\b\b\b\b\b\b\b\b\b\b\b\b\b\b\b\b\b\b\b\b\b\b\b\b\b\b\b\b\b\b\b\b\b\b\b\b\b\b\b\b\r",
      " 2/20 [==>...........................] - ETA: 1:41\b\b\b\b\b\b\b\b\b\b\b\b\b\b\b\b\b\b\b\b\b\b\b\b\b\b\b\b\b\b\b\b\b\b\b\b\b\b\b\b\b\b\b\b\b\b\b\b\b\b\r",
      " 3/20 [===>..........................] - ETA: 1:35\b\b\b\b\b\b\b\b\b\b\b\b\b\b\b\b\b\b\b\b\b\b\b\b\b\b\b\b\b\b\b\b\b\b\b\b\b\b\b\b\b\b\b\b\b\b\b\b\b\b\r",
      " 4/20 [=====>........................] - ETA: 1:29\b\b\b\b\b\b\b\b\b\b\b\b\b\b\b\b\b\b\b\b\b\b\b\b\b\b\b\b\b\b\b\b\b\b\b\b\b\b\b\b\b\b\b\b\b\b\b\b\b\b\r",
      " 5/20 [======>.......................] - ETA: 1:24\b\b\b\b\b\b\b\b\b\b\b\b\b\b\b\b\b\b\b\b\b\b\b\b\b\b\b\b\b\b\b\b\b\b\b\b\b\b\b\b\b\b\b\b\b\b\b\b\b\b\r",
      " 6/20 [========>.....................] - ETA: 1:18\b\b\b\b\b\b\b\b\b\b\b\b\b\b\b\b\b\b\b\b\b\b\b\b\b\b\b\b\b\b\b\b\b\b\b\b\b\b\b\b\b\b\b\b\b\b\b\b\b\b\r",
      " 7/20 [=========>....................] - ETA: 1:13\b\b\b\b\b\b\b\b\b\b\b\b\b\b\b\b\b\b\b\b\b\b\b\b\b\b\b\b\b\b\b\b\b\b\b\b\b\b\b\b\b\b\b\b\b\b\b\b\b\b\r",
      " 8/20 [===========>..................] - ETA: 1:07\b\b\b\b\b\b\b\b\b\b\b\b\b\b\b\b\b\b\b\b\b\b\b\b\b\b\b\b\b\b\b\b\b\b\b\b\b\b\b\b\b\b\b\b\b\b\b\b\b\b\r",
      " 9/20 [============>.................] - ETA: 1:01\b\b\b\b\b\b\b\b\b\b\b\b\b\b\b\b\b\b\b\b\b\b\b\b\b\b\b\b\b\b\b\b\b\b\b\b\b\b\b\b\b\b\b\b\b\b\b\b\b\b\r",
      "10/20 [==============>...............] - ETA: 56s \b\b\b\b\b\b\b\b\b\b\b\b\b\b\b\b\b\b\b\b\b\b\b\b\b\b\b\b\b\b\b\b\b\b\b\b\b\b\b\b\b\b\b\b\b\b\b\b\b\r",
      "11/20 [===============>..............] - ETA: 50s\b\b\b\b\b\b\b\b\b\b\b\b\b\b\b\b\b\b\b\b\b\b\b\b\b\b\b\b\b\b\b\b\b\b\b\b\b\b\b\b\b\b\b\b\b\b\b\b\b\r",
      "12/20 [=================>............] - ETA: 45s\b\b\b\b\b\b\b\b\b\b\b\b\b\b\b\b\b\b\b\b\b\b\b\b\b\b\b\b\b\b\b\b\b\b\b\b\b\b\b\b\b\b\b\b\b\b\b\b\b\r",
      "13/20 [==================>...........] - ETA: 39s\b\b\b\b\b\b\b\b\b\b\b\b\b\b\b\b\b\b\b\b\b\b\b\b\b\b\b\b\b\b\b\b\b\b\b\b\b\b\b\b\b\b\b\b\b\b\b\b\b\r",
      "14/20 [====================>.........] - ETA: 33s\b\b\b\b\b\b\b\b\b\b\b\b\b\b\b\b\b\b\b\b\b\b\b\b\b\b\b\b\b\b\b\b\b\b\b\b\b\b\b\b\b\b\b\b\b\b\b\b\b\r",
      "15/20 [=====================>........] - ETA: 28s\b\b\b\b\b\b\b\b\b\b\b\b\b\b\b\b\b\b\b\b\b\b\b\b\b\b\b\b\b\b\b\b\b\b\b\b\b\b\b\b\b\b\b\b\b\b\b\b\b\r",
      "16/20 [=======================>......] - ETA: 22s\b\b\b\b\b\b\b\b\b\b\b\b\b\b\b\b\b\b\b\b\b\b\b\b\b\b\b\b\b\b\b\b\b\b\b\b\b\b\b\b\b\b\b\b\b\b\b\b\b\r",
      "17/20 [========================>.....] - ETA: 17s\b\b\b\b\b\b\b\b\b\b\b\b\b\b\b\b\b\b\b\b\b\b\b\b\b\b\b\b\b\b\b\b\b\b\b\b\b\b\b\b\b\b\b\b\b\b\b\b\b\r",
      "18/20 [==========================>...] - ETA: 11s\b\b\b\b\b\b\b\b\b\b\b\b\b\b\b\b\b\b\b\b\b\b\b\b\b\b\b\b\b\b\b\b\b\b\b\b\b\b\b\b\b\b\b\b\b\b\b\b\b\r",
      "19/20 [===========================>..] - ETA: 5s \b\b\b\b\b\b\b\b\b\b\b\b\b\b\b\b\b\b\b\b\b\b\b\b\b\b\b\b\b\b\b\b\b\b\b\b\b\b\b\b\b\b\b\b\b\b\b\b\r",
      "20/20 [==============================] - ETA: 0s\b\b\b\b\b\b\b\b\b\b\b\b\b\b\b\b\b\b\b\b\b\b\b\b\b\b\b\b\b\b\b\b\b\b\b\b\b\b\b\b\b\b\b\b\b\b\b\b\r",
      "20/20 [==============================] - 111s 6s/step\r\n",
      "Batch Inference Time:  110.82046961784363\r\n",
      "Accuracy:  0.970959375\r\n",
      "\r\n",
      "    ----------------------------------------\r\n",
      "    # Model Inference details:\r\n",
      "    # Real time inference (in seconds): 0.12021613121032715\r\n",
      "    # Average batch inference:\r\n",
      "    #   Time (in seconds): 5.652456225585937\r\n",
      "    #   Batch size: 128\r\n",
      "    #   Accuracy: 0.970959375\r\n",
      "    ----------------------------------------\r\n",
      "    \r\n"
     ]
    }
   ],
   "source": [
    "%cat intel_inference_log.txt"
   ]
  },
  {
   "cell_type": "markdown",
   "id": "34fece57",
   "metadata": {},
   "source": [
    "#### **Model Conversion process with Intel Neural Compressor**\n",
    "Intel® Neural Compressor is used to quantize the FP32 Model to the INT8 Model. \n",
    "Optimized model is used here for evaluating and timing Analysis. \n",
    "Intel® Neural Compressor supports many optimization methods. \n",
    "In this case, we have used post training quantization with default quantization method to quantize the FP32 model.\n",
    "\n",
    "Before performing the quantization of the trained model, the model is converted to frozen graph format using the <i>run_create_frozen_graph.py</i>\n",
    "python script. The usage of this script to generate the frozen graph is as follows:\n",
    "\n",
    "```\n",
    "python src/run_create_frozen_graph.py --model_path <trained model file path> --save_model_path <path to save the model frozen graph>\n",
    "```\n",
    "where,<br>\n",
    "<b>model_path</b> - The path of the FP32 trained model <br>\n",
    "<b>save_model_path</b> - The path to save the frozen graph format of the model given in model_path<br>\n",
    "\n",
    "The cell below provides an example execution this script\n"
   ]
  },
  {
   "cell_type": "code",
   "execution_count": null,
   "id": "e73a9a8b",
   "metadata": {},
   "outputs": [],
   "source": [
    "%run src/run_create_frozen_graph.py --model_path \"./models/trainedmodels/intel/model_b128/model_checkpoint\" --save_model_path \"./models/frozen_models/intel/model_b32/\""
   ]
  },
  {
   "cell_type": "markdown",
   "id": "d4fcbcc5",
   "metadata": {},
   "source": [
    "Once the frozen model format of the model is created, the <i>run_neural_compressor_conversion.py</i> python script is used for \n",
    "quanitization of the FP32 trained model. The syntax for using the script\n",
    "given as follows:\n",
    "\n",
    "```\n",
    "python src/run_neural_compressor_conversion.py --dataset_file <test dataset file name> --model_path <path of the frozen graph> --config_file <configuration file> --save_model_path <path to save the model>\n",
    "```\n",
    "where,\n",
    "```\n",
    "--dataset_file        The path of the test dataset file\n",
    "--model_path          The path of the model file in the frozen graph format\n",
    "--config_file         The path of the configuration file which contains the settings for the quanitization\n",
    "--save_model_path     The path to save the quantized model\n",
    "```\n",
    "\n",
    "The cell below provides an example execution this script\n",
    "\n",
    ">Note:\n",
    "If while running the above script if the error \"Unable to run due to ImportError: libGL.so.1: \n",
    "cannot open shared object file: No such file or directory\" occurs then install libgl using the command,\n",
    "!sudo apt-get install libgl1"
   ]
  },
  {
   "cell_type": "code",
   "execution_count": null,
   "id": "4297d5fe",
   "metadata": {},
   "outputs": [],
   "source": [
    "%run src/INC/run_neural_compressor_conversion.py --dataset_file \"./data/ner_test_quan_dataset.csv\" --model_path \"./models/frozen_models/intel/model_b32/frozen_graph.pb\" --config_file \"./env/deploy.yaml\" --save_model_path \"./models/quantized_models/intel/model_b128_d100/inc_model_b128_d100/\""
   ]
  },
  {
   "cell_type": "markdown",
   "id": "273517be",
   "metadata": {},
   "source": [
    "If the quanitized model needs to be tuned to evaluate a specific accuracy relative to the FP32 trained model then the respective configuration parameters need to be set in the config file and the python script <i>run_neural_compressor_tune_conversion.py</i> is used in a similiar manner as <i>run_neural_compressor_conversion.py</i> except for the configuration file. The syntax of the script and usage is given as follows:\n",
    "\n",
    "```\n",
    "python src/INC/run_neural_compressor_tune_conversion.py --dataset_file <test dataset file name> --model_path <path of the frozen graph> --config_file <configuration file> --save_model_path <path to save the model>\n",
    "```\n",
    "where,\n",
    "```\n",
    "--dataset_file        The path of the test dataset file\n",
    "--model_path          The path of the model file in the frozen graph format\n",
    "--config_file         The path of the configuration file which contains the settings for the quanitization\n",
    "--save_model_path     The path to save the quantized model\n",
    "```\n",
    "The usage of the script is similar to the <i>run_neural_compressor_conversion.py</i> except for the configuration file.\n",
    "\n",
    "The cell below provides an example execution this script\n"
   ]
  },
  {
   "cell_type": "code",
   "execution_count": null,
   "id": "825f3ed5",
   "metadata": {},
   "outputs": [],
   "source": [
    "%run src/INC/run_neural_compressor_tune_conversion.py --dataset_file \"./data/ner_test_quan_dataset.csv\" --model_path \"./models/frozen_models/intel/model_b128/frozen_graph.pb\" --config_file \"./env/deploy_accuracy.yaml\" --save_model_path \"./models/acc_quantized_models/intel/model_b128_d100/inc_model_b128_d100/\""
   ]
  },
  {
   "cell_type": "markdown",
   "id": "9fc64855",
   "metadata": {},
   "source": [
    "#### **Model Inference process with Intel® Quanitizations**\n",
    "Now that the quantized model is created using INC it can be used for inferencing on the test data and perform benchmarking.\n",
    "The inferencing is done on the FP32 model and INC quantized model and results for real time inference and batch inference are used\n",
    "for benchmarking.\n",
    "\n",
    "The python script <i>run_neural_compressor_inference.py</i> is used for perform predictions on the test data. The syntax to use the script \n",
    "is given below.\n",
    "\n",
    "```\n",
    "python src/INC/run_neural_compressor_inference.py --batch_size 32 --dataset_file <test dataset file> --model_path <FP32 or INC frozen graph file>\n",
    "```\n",
    "where,\n",
    "```\n",
    "--batch_size      Give the required batch size for inference\n",
    "--dataset_file    The path of the test data set file name\n",
    "--model_path      The path of the FP32 or quantized frozen graph model\n",
    "```\n",
    "\n",
    "The cell below provides an example execution this script"
   ]
  },
  {
   "cell_type": "code",
   "execution_count": null,
   "id": "8d145e6b",
   "metadata": {},
   "outputs": [],
   "source": [
    "%run src/INC/run_neural_compressor_inference.py --batch_size 128 --dataset_file \"./data/ner_test_quan_dataset.csv\" --model_path \"./models/quantized_models/intel/model_b128_d100/inc_model_b128_d100.pb\" | tee INC_inference_log.txt"
   ]
  },
  {
   "cell_type": "markdown",
   "id": "71c68a86",
   "metadata": {},
   "source": [
    "### **Expected Output**\n",
    "Example of expected output stored in the log.txt file"
   ]
  },
  {
   "cell_type": "code",
   "execution_count": 3,
   "id": "523837af",
   "metadata": {},
   "outputs": [
    {
     "name": "stdout",
     "output_type": "stream",
     "text": [
      "# of sentences:  2500\r\n",
      "Testing dataset size: 2500\r\n",
      "Total Time Taken for model inference with                           batch size 128 in seconds                               ---> 62.66711711883545\r\n",
      "Total Time Taken for model inference with                           batch size 128 in seconds                               ---> 62.51118612289429\r\n",
      "Total Time Taken for model inference with                           batch size 128 in seconds                               ---> 62.3470025062561\r\n",
      "\r\n",
      "                ----------------------------------------\r\n",
      "                # Model Inference details:\r\n",
      "                # Real time inference (in seconds): 0.06799769401550293\r\n",
      "                # Average Inference Time (in seconds): 3.289917644701506\r\n",
      "                # Accuracy: 0.9701987818667762\r\n",
      "                ----------------------------------------\r\n",
      "                \r\n"
     ]
    }
   ],
   "source": [
    "%cat INC_inference_log.txt"
   ]
  }
 ],
 "metadata": {
  "kernelspec": {
   "display_name": "Python [conda env:ner_intel]",
   "language": "python",
   "name": "conda-env-ner_intel-py"
  },
  "language_info": {
   "codemirror_mode": {
    "name": "ipython",
    "version": 3
   },
   "file_extension": ".py",
   "mimetype": "text/x-python",
   "name": "python",
   "nbconvert_exporter": "python",
   "pygments_lexer": "ipython3",
   "version": "3.9.13"
  }
 },
 "nbformat": 4,
 "nbformat_minor": 5
}
